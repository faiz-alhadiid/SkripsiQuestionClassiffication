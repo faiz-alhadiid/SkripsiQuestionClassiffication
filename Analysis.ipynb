{
 "cells": [
  {
   "cell_type": "code",
   "execution_count": 14,
   "metadata": {},
   "outputs": [],
   "source": [
    "import pandas as pd\n",
    "import feat_extraction as fe\n",
    "from sklearn.metrics import confusion_matrix"
   ]
  },
  {
   "cell_type": "code",
   "execution_count": 4,
   "metadata": {},
   "outputs": [
    {
     "data": {
      "text/plain": [
       "['output/classified/C_1.5-tol_0.01-max_iter_2000-fold_0.csv',\n",
       " 'output/classified/C_1.5-tol_0.01-max_iter_2000-fold_1.csv',\n",
       " 'output/classified/C_1.5-tol_0.01-max_iter_2000-fold_2.csv',\n",
       " 'output/classified/C_1.5-tol_0.01-max_iter_2000-fold_3.csv',\n",
       " 'output/classified/C_1.5-tol_0.01-max_iter_2000-fold_4.csv']"
      ]
     },
     "execution_count": 4,
     "metadata": {},
     "output_type": "execute_result"
    }
   ],
   "source": [
    "res_prefix = 'output/classified/C_1.5-tol_0.01-max_iter_2000'\n",
    "\n",
    "res_files = [f\"{res_prefix}-fold_{fold}.csv\" for fold in range(5)]\n",
    "res_files"
   ]
  },
  {
   "cell_type": "code",
   "execution_count": 13,
   "metadata": {},
   "outputs": [],
   "source": [
    "actual = []\n",
    "predicted = []\n",
    "\n",
    "for file in res_files :\n",
    "    df = pd.read_csv(file, sep=\";\")\n",
    "    actual.extend(list(df[\"Aktual\"]))\n",
    "    predicted.extend(list(df[\"Predicted\"]))"
   ]
  },
  {
   "cell_type": "code",
   "execution_count": 17,
   "metadata": {},
   "outputs": [
    {
     "data": {
      "text/plain": [
       "array([[ 13,   4,   0,   2,   0,   0],\n",
       "       [  2, 172,   3,  32,   8,   3],\n",
       "       [  0,   9, 158,  48,  13,   1],\n",
       "       [  1,  34,  26, 304,  15,   1],\n",
       "       [  1,   6,   4,  16, 173,   0],\n",
       "       [  0,   3,   2,   9,   3, 264]], dtype=int64)"
      ]
     },
     "execution_count": 17,
     "metadata": {},
     "output_type": "execute_result"
    }
   ],
   "source": [
    "confusion_matrix(actual, predicted, labels=[\"ABBR\", \"DESC\", \"HUM\", \"ENTY\", \"LOC\", \"NUM\"])"
   ]
  },
  {
   "cell_type": "code",
   "execution_count": 18,
   "metadata": {},
   "outputs": [
    {
     "data": {
      "text/plain": [
       "1330"
      ]
     },
     "execution_count": 18,
     "metadata": {},
     "output_type": "execute_result"
    }
   ],
   "source": []
  },
  {
   "cell_type": "code",
   "execution_count": null,
   "metadata": {},
   "outputs": [],
   "source": []
  }
 ],
 "metadata": {
  "kernelspec": {
   "display_name": "Python 3",
   "language": "python",
   "name": "python3"
  },
  "language_info": {
   "codemirror_mode": {
    "name": "ipython",
    "version": 3
   },
   "file_extension": ".py",
   "mimetype": "text/x-python",
   "name": "python",
   "nbconvert_exporter": "python",
   "pygments_lexer": "ipython3",
   "version": "3.7.0"
  }
 },
 "nbformat": 4,
 "nbformat_minor": 2
}
